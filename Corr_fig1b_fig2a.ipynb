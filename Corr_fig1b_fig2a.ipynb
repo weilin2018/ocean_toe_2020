{
 "cells": [
  {
   "cell_type": "code",
   "execution_count": 1,
   "metadata": {},
   "outputs": [],
   "source": [
    "import sys\n",
    "import os, glob\n",
    "from netCDF4 import Dataset as open_ncfile\n",
    "import matplotlib.pyplot as plt\n",
    "from maps_matplot_lib import defVarmme, zon_2Dz, custom_div_cmap, modelagree, zonal_2D\n",
    "import numpy as np\n",
    "import xarray as xr\n",
    "from functions import lag_linregress_3D\n",
    "from scipy.stats import pearsonr"
   ]
  },
  {
   "cell_type": "code",
   "execution_count": 2,
   "metadata": {},
   "outputs": [],
   "source": [
    "import warnings\n",
    "warnings.filterwarnings('ignore')"
   ]
  },
  {
   "cell_type": "markdown",
   "metadata": {},
   "source": [
    "## Read every run and compute 1950-2008 trend"
   ]
  },
  {
   "cell_type": "code",
   "execution_count": 3,
   "metadata": {},
   "outputs": [
    {
     "name": "stdout",
     "output_type": "stream",
     "text": [
      "Working on CanESM2\n",
      "    . run number 0 r1i1p1\n",
      "    . run number 1 r2i1p1\n",
      "    . run number 2 r3i1p1\n",
      "    . run number 3 r4i1p1\n",
      "    . run number 4 r5i1p1\n",
      "Working on CCSM4\n",
      "    . run number 0 r1i1p1\n",
      "    . run number 1 r2i1p1\n",
      "    . run number 2 r3i1p1\n",
      "    . run number 3 r4i1p1\n",
      "    . run number 4 r5i1p1\n",
      "    . run number 5 r6i1p1\n",
      "Working on CESM1-CAM5\n",
      "    . run number 0 r1i1p1\n",
      "    . run number 1 r2i1p1\n",
      "    . run number 2 r3i1p1\n",
      "Working on CSIRO-Mk3-6-0\n",
      "    . run number 0 r1i1p1\n",
      "    . run number 1 r2i1p1\n",
      "    . run number 2 r3i1p1\n",
      "    . run number 3 r4i1p1\n",
      "    . run number 4 r5i1p1\n",
      "    . run number 5 r6i1p1\n",
      "    . run number 6 r7i1p1\n",
      "    . run number 7 r8i1p1\n",
      "    . run number 8 r9i1p1\n",
      "Working on FGOALS-g2\n",
      "    . run number 0 r1i1p1\n",
      "Working on GISS-E2-R\n",
      "    . run number 0 r1i1p1\n",
      "    . run number 1 r2i1p1\n",
      "    . run number 2 r2i1p3\n",
      "Working on HadGEM2-ES\n",
      "    . run number 0 r1i1p1\n",
      "    . run number 1 r3i1p1\n",
      "Working on IPSL-CM5A-LR\n",
      "    . run number 0 r2i1p1\n",
      "    . run number 1 r3i1p1\n",
      "    . run number 2 r4i1p1\n",
      "Working on IPSL-CM5A-MR\n",
      "    . run number 0 r1i1p1\n",
      "Working on MIROC-ESM-CHEM\n",
      "    . run number 0 r1i1p1\n",
      "Working on MIROC-ESM\n",
      "    . run number 0 r1i1p1\n"
     ]
    }
   ],
   "source": [
    "# == Read models ==\n",
    "from modelsDef import defModels\n",
    "\n",
    "models = defModels()\n",
    "\n",
    "indir_histrcp85 = '/home/ysilvy/Density_bining/Yona_analysis/data/hist_rcp85/'\n",
    "time = np.arange(1950,2101)\n",
    "\n",
    "# Choose where to end time series\n",
    "y2 = 2008 \n",
    "trend_models = [0]*11\n",
    "vart_models = [0]*11\n",
    "model_names = ['']*11\n",
    "bowl_models = [0]*11\n",
    "imod=0\n",
    "\n",
    "for i, model in enumerate(models):\n",
    "#i=2; model=models[i]\n",
    "    # Read hist+rcp85 files\n",
    "    listruns = sorted(glob.glob(indir_histrcp85 + 'cmip5.' + model['name'] + '.' + '*zon2D.nc'))\n",
    "    listruns1d = sorted(glob.glob(indir_histrcp85 + 'cmip5.' + model['name'] + '.' + '*zon1D.nc'))\n",
    "    nruns = len(listruns)\n",
    "    if nruns != 0:\n",
    "        print('Working on', model['name'])\n",
    "        # Index of common time interval\n",
    "        tstart = model['props'][2]\n",
    "        tend = model['props'][3] #2005\n",
    "        # Loop over number of runs\n",
    "        for k in range(nruns):\n",
    "            namefile = os.path.basename(listruns[k])\n",
    "            run_nb = namefile.split('.')[3]\n",
    "            print('    . run number', k, run_nb)\n",
    "\n",
    "            fhrcp = xr.open_dataset(listruns[k],decode_times=False)\n",
    "            varkt = fhrcp.isonso.isel(time=slice(tstart+89,tend+95)) #1950-2100\n",
    "            varkt['time'] = time\n",
    "            varkt = varkt.sel(time=slice(1950,y2))\n",
    "            fhrcp1d = xr.open_dataset(listruns1d[k],decode_times=False)\n",
    "            bowlk = fhrcp1d.ptopsigma.isel(time=slice(tstart+89,tend+95))\n",
    "            bowlk['time'] = time\n",
    "            bowlk = bowlk.sel(time=slice(y2-10,y2)).mean(dim='time')\n",
    "\n",
    "            # Compute trend at each grid point\n",
    "            covk,cork,slopek,interceptk,pvalk,stderrk = lag_linregress_3D(x=varkt.time,y=varkt)\n",
    "            trendk = slopek*50 #len(varkt.time) \n",
    "            \n",
    "            # Add dimension to stack members\n",
    "            trendk['members'] = run_nb\n",
    "            trendk = trendk.expand_dims('members') \n",
    "            varkt['members'] = run_nb\n",
    "            varkt = varkt.expand_dims('members') \n",
    "            bowlk['members'] = run_nb\n",
    "            bowlk = bowlk.expand_dims('members') \n",
    "            if k==0:\n",
    "                trend_mod = trendk\n",
    "                bowl_mod = bowlk\n",
    "                vart_mod = varkt\n",
    "            else:\n",
    "                trend_mod = xr.concat([trend_mod,trendk],dim='members')\n",
    "                bowl_mod = xr.concat([bowl_mod,bowlk],dim='members')\n",
    "                vart_mod = xr.concat([vart_mod,varkt],dim='members')\n",
    "            \n",
    "        trend_models[imod] = trend_mod\n",
    "        model_names[imod] = model['name']\n",
    "        bowl_models[imod] = bowl_mod\n",
    "        vart_models[imod] = vart_mod\n",
    "        imod=imod+1\n"
   ]
  },
  {
   "cell_type": "markdown",
   "metadata": {},
   "source": [
    "## Compute ensemble means"
   ]
  },
  {
   "cell_type": "code",
   "execution_count": 4,
   "metadata": {},
   "outputs": [],
   "source": [
    "# Dimensions\n",
    "basin = trend_models[0].basin; basinN = len(basin)\n",
    "lat = trend_models[0].latitude; latN = len(lat)\n",
    "lev = trend_models[0].lev; levN = len(lev)\n",
    "time = vart_models[0].time; timeN = len(time)\n",
    "# Initialize xarrays\n",
    "trend_means = xr.DataArray(np.zeros((len(trend_models),basinN,levN,latN)),dims=['models','basin','lev','latitude'],\n",
    "                             coords=[model_names,basin,lev,lat])\n",
    "bowl_means = xr.DataArray(np.zeros((len(trend_models),basinN,latN)),dims=['models','basin','latitude'],\n",
    "                             coords=[model_names,basin,lat])\n",
    "vart_means = xr.DataArray(np.zeros((len(trend_models),timeN,basinN,levN,latN)),dims=['models','time','basin','lev','latitude'],\n",
    "                             coords=[model_names,time,basin,lev,lat])\n",
    "# Loop on models to compute ensemble means\n",
    "for i in range(len(trend_models)):\n",
    "    trend_means[i,:,:,:] = trend_models[i].mean(dim='members')\n",
    "    bowl_means[i,:,:] = bowl_models[i].mean(dim='members')\n",
    "    vart_means[i,:,:,:,:] = vart_models[i].mean(dim='members')"
   ]
  },
  {
   "cell_type": "markdown",
   "metadata": {},
   "source": [
    "## Compute multi-model means "
   ]
  },
  {
   "cell_type": "code",
   "execution_count": 5,
   "metadata": {},
   "outputs": [],
   "source": [
    "trend_mmm = trend_means.mean(dim='models') # mmm of trends\n",
    "bowl_mmm = bowl_means.mean(dim='models')\n",
    "vart_mmm = vart_means.mean(dim='models') # mmm of temporal data"
   ]
  },
  {
   "cell_type": "markdown",
   "metadata": {},
   "source": [
    "## Mask above the bowl"
   ]
  },
  {
   "cell_type": "code",
   "execution_count": 6,
   "metadata": {},
   "outputs": [],
   "source": [
    "# -- Now mask points in the bowl\n",
    "for ilat in range(latN):\n",
    "    if np.isnan(bowl_mmm[1,ilat]) == False :\n",
    "        inda = np.ma.nonzero(bowl_mmm[1,ilat]>=lev)[0]\n",
    "        trend_mmm[1,inda,ilat] = np.nan\n",
    "        trend_means[:,1,inda,ilat] = np.nan\n",
    "    if np.isnan(bowl_mmm[2,ilat]) == False :\n",
    "        indp = np.ma.nonzero(bowl_mmm[2,ilat]>=lev)[0]\n",
    "        trend_mmm[2,indp,ilat] = np.nan\n",
    "        trend_means[:,2,indp,ilat] = np.nan\n",
    "    if np.isnan(bowl_mmm[3,ilat]) == False :\n",
    "        indi = np.ma.nonzero(bowl_mmm[3,ilat]>=lev)[0]\n",
    "        trend_mmm[3,indi,ilat] = np.nan\n",
    "        trend_means[:,3,indi,ilat] = np.nan"
   ]
  },
  {
   "cell_type": "markdown",
   "metadata": {},
   "source": [
    "## Now compute mmm hist-histNat [1985-2005]"
   ]
  },
  {
   "cell_type": "code",
   "execution_count": 7,
   "metadata": {},
   "outputs": [],
   "source": [
    "indirhn = '/data/ysilvy/Density_binning/mme_histNat/'\n",
    "filehn_2d = 'cmip5.multimodel_Nat_rcp85.historicalNat.ensm.an.ocn.Omon.density_zon2D.nc'\n",
    "filehn_1d = 'cmip5.multimodel_Nat_rcp85.historicalNat.ensm.an.ocn.Omon.density_zon1D.nc'\n",
    "fhn2d = xr.open_dataset(indirhn+filehn_2d,decode_times=False)\n",
    "fhn1d = xr.open_dataset(indirhn+filehn_1d,decode_times=False)\n",
    "\n",
    "varhn = fhn2d.isonso.isel(time=slice(125,145))"
   ]
  },
  {
   "cell_type": "code",
   "execution_count": 8,
   "metadata": {},
   "outputs": [],
   "source": [
    "var_change = vart_mmm.sel(time=slice(1985,2005)).mean(dim='time') - varhn.mean(dim='time')"
   ]
  },
  {
   "cell_type": "code",
   "execution_count": 9,
   "metadata": {},
   "outputs": [],
   "source": [
    "# -- Mask above bowl\n",
    "for ilat in range(latN):\n",
    "    if np.isnan(bowl_mmm[1,ilat]) == False :\n",
    "        inda = np.ma.nonzero(bowl_mmm[1,ilat]>=lev)[0]\n",
    "        var_change[1,inda,ilat] = np.nan\n",
    "    if np.isnan(bowl_mmm[2,ilat]) == False :\n",
    "        indp = np.ma.nonzero(bowl_mmm[2,ilat]>=lev)[0]\n",
    "        var_change[2,indp,ilat] = np.nan\n",
    "    if np.isnan(bowl_mmm[3,ilat]) == False :\n",
    "        indi = np.ma.nonzero(bowl_mmm[3,ilat]>=lev)[0]\n",
    "        var_change[3,indi,ilat] = np.nan"
   ]
  },
  {
   "cell_type": "markdown",
   "metadata": {},
   "source": [
    "## Compute correlation "
   ]
  },
  {
   "cell_type": "code",
   "execution_count": 45,
   "metadata": {},
   "outputs": [],
   "source": [
    "# -- Stack all dimensions including basins\n",
    "x = trend_mmm.sel(basin=slice(1,3)).stack(z=('basin','lev','latitude'))\n",
    "y = var_change.sel(basin=slice(1,3)).stack(z=('basin','lev','latitude'))"
   ]
  },
  {
   "cell_type": "code",
   "execution_count": 46,
   "metadata": {},
   "outputs": [],
   "source": [
    "# Remove nans to compute correlation coefficient\n",
    "ixnonan = ~np.isnan(x)\n",
    "iynonan= ~np.isnan(y)\n",
    "ixynonan = ixnonan & iynonan\n",
    "xnonan = x[ixynonan]\n",
    "ynonan = y[ixynonan]"
   ]
  },
  {
   "cell_type": "code",
   "execution_count": 47,
   "metadata": {},
   "outputs": [],
   "source": [
    "corr = pearsonr(xnonan,ynonan)"
   ]
  },
  {
   "cell_type": "code",
   "execution_count": 48,
   "metadata": {},
   "outputs": [
    {
     "data": {
      "text/plain": [
       "(0.8810002320691286, 0.0)"
      ]
     },
     "execution_count": 48,
     "metadata": {},
     "output_type": "execute_result"
    }
   ],
   "source": [
    "corr"
   ]
  },
  {
   "cell_type": "code",
   "execution_count": 51,
   "metadata": {},
   "outputs": [
    {
     "name": "stdout",
     "output_type": "stream",
     "text": [
      "0 (0.7265332373300097, 0.0)\n",
      "1 (0.871016107243001, 0.0)\n",
      "2 (0.8732607844616733, 0.0)\n",
      "3 (0.8847327596184282, 0.0)\n"
     ]
    }
   ],
   "source": [
    "# -- Each basin zonal mean \n",
    "for i in range(4):\n",
    "    xtot = trend_mmm.sel(basin=i).stack(z=('lev','latitude'))\n",
    "    ytot = var_change.sel(basin=i).stack(z=('lev','latitude'))\n",
    "    # Remove nans to compute correlation coefficient\n",
    "    ixnonan = ~np.isnan(xtot)\n",
    "    iynonan= ~np.isnan(ytot)\n",
    "    ixynonan = ixnonan & iynonan\n",
    "    xnonan = xtot[ixynonan]\n",
    "    ynonan = ytot[ixynonan]\n",
    "    corr = pearsonr(xnonan,ynonan)\n",
    "    print(i,corr)"
   ]
  }
 ],
 "metadata": {
  "kernelspec": {
   "display_name": "Python [conda env:.conda-cdat81_py36] *",
   "language": "python",
   "name": "conda-env-.conda-cdat81_py36-py"
  },
  "language_info": {
   "codemirror_mode": {
    "name": "ipython",
    "version": 3
   },
   "file_extension": ".py",
   "mimetype": "text/x-python",
   "name": "python",
   "nbconvert_exporter": "python",
   "pygments_lexer": "ipython3",
   "version": "3.6.7"
  }
 },
 "nbformat": 4,
 "nbformat_minor": 2
}
